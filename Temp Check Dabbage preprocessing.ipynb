{
 "cells": [
  {
   "cell_type": "code",
   "execution_count": 2,
   "metadata": {
    "collapsed": false
   },
   "outputs": [],
   "source": [
    "import pickle\n",
    "with open('Dabbage/chicagosample.pickle', 'rb') as fin:\n",
    "    objs = pickle.load(fin)"
   ]
  },
  {
   "cell_type": "code",
   "execution_count": 3,
   "metadata": {
    "collapsed": false
   },
   "outputs": [
    {
     "name": "stdout",
     "output_type": "stream",
     "text": [
      "{6648: {u'usgsplacename': u'Chicago', 'earthenv': {'wgs84': <shapely.geometry.polygon.Polygon object at 0x1095f8b90>, 'ruralgeomwgs84': <shapely.geometry.multipolygon.MultiPolygon object at 0x1095f8d10>, 'geom': <shapely.geometry.polygon.Polygon object at 0x108d2b750>, 'ruralgeom': <shapely.geometry.multipolygon.MultiPolygon object at 0x1095f8d50>}, u'statefips': u'17', u'usgsplacegeomstr': '\\x01\\x04\\x00\\x00 \\x11\\x0f\\x00\\x00\\x01\\x00\\x00\\x00\\x01\\x01\\x00\\x00\\x00R\\xce\\x14\\xe6<\\x9cb\\xc1\\xed\\n3a\\x1b\\x9aSA', u'placeid': 6648, 'usgsplacegeom': <shapely.geometry.multipoint.MultiPoint object at 0x1095f8d90>, u'usgspopulation': 2695598.0, u'gnisid': 423587.0, u'usgsplacegeomwgs84str': '\\x01\\x04\\x00\\x00 \\xe6\\x10\\x00\\x00\\x01\\x00\\x00\\x00\\x01\\x01\\x00\\x00\\x00\\x1cL\\xf6t\\x9a\\xe9U\\xc07\\xbf\\x9d\\xe1\\xcd\\xecD@', 'usgsplacegeomwgs84': <shapely.geometry.multipoint.MultiPoint object at 0x1095f8e50>, u'countryfips': u'031', 'censusurb': {'processbuffer': <shapely.geometry.multipolygon.MultiPolygon object at 0x1095f8e90>, 'ruralgeomwgs84': <shapely.geometry.multipolygon.MultiPolygon object at 0x1095f8dd0>, 'wgs84': <shapely.geometry.multipolygon.MultiPolygon object at 0x1095f8e10>, 'ruralgeom': <shapely.geometry.multipolygon.MultiPolygon object at 0x1095f8ed0>, 'geom': <shapely.geometry.multipolygon.MultiPolygon object at 0x1095f8f10>}}}\n"
     ]
    }
   ],
   "source": [
    "print objs\n"
   ]
  },
  {
   "cell_type": "code",
   "execution_count": 7,
   "metadata": {
    "collapsed": false
   },
   "outputs": [],
   "source": [
    "from fiona.crs import from_epsg\n",
    "from shapely.geometry import mapping, shape\n",
    "import fiona\n",
    "yourschema =  {'geometry': 'MultiPolygon',\n",
    "           'properties': {}}\n",
    "with fiona.open('scratch/chicagopreprocessing.shp', 'w',\n",
    "                crs=from_epsg(3857),driver='ESRI Shapefile', \n",
    "                schema=yourschema) as output:\n",
    "\n",
    "    output.write({'geometry': mapping(objs.values()[0]['censusurb']['processbuffer']), 'properties':{}})\n"
   ]
  },
  {
   "cell_type": "code",
   "execution_count": null,
   "metadata": {
    "collapsed": true
   },
   "outputs": [],
   "source": []
  }
 ],
 "metadata": {
  "kernelspec": {
   "display_name": "Python 2",
   "language": "python",
   "name": "python2"
  },
  "language_info": {
   "codemirror_mode": {
    "name": "ipython",
    "version": 2
   },
   "file_extension": ".py",
   "mimetype": "text/x-python",
   "name": "python",
   "nbconvert_exporter": "python",
   "pygments_lexer": "ipython2",
   "version": "2.7.12"
  }
 },
 "nbformat": 4,
 "nbformat_minor": 0
}
