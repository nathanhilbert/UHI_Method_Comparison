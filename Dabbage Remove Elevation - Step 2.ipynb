{
 "cells": [
  {
   "cell_type": "markdown",
   "metadata": {},
   "source": [
    "Now in dabbage_step1_prep.py\n",
    "----------------"
   ]
  },
  {
   "cell_type": "markdown",
   "metadata": {},
   "source": [
    " - Remove elevation +/- 50m of the average of the urban area\n",
    "   - Get the average with vectorlayers from the elevation dem file\n",
    "   - For each vector and corresponding buffer:\n",
    "     - Clip to the area of the buffer, set any values +/- 50m to -9999\n",
    "     - ~~Clip against the entire urban area was done in the query~~"
   ]
  },
  {
   "cell_type": "code",
   "execution_count": 1,
   "metadata": {
    "collapsed": true
   },
   "outputs": [],
   "source": [
    "import pickle\n",
    "with open('Dabbage/postsampleplacescall.pickle', 'rb') as fout:\n",
    "    sampleplaces = pickle.load(fout)"
   ]
  },
  {
   "cell_type": "code",
   "execution_count": 13,
   "metadata": {
    "collapsed": false
   },
   "outputs": [
    {
     "name": "stdout",
     "output_type": "stream",
     "text": [
      "{u'usgsplacename': u'Chicago', 'earthenv': {'geom': <shapely.geometry.polygon.Polygon object at 0x10ce0d190>, 'ruralgeomwgs84': <shapely.geometry.multipolygon.MultiPolygon object at 0x10ce0d150>, 'wgs84': <shapely.geometry.polygon.Polygon object at 0x10ce0d110>, 'ruralgeom': <shapely.geometry.multipolygon.MultiPolygon object at 0x10ce0d1d0>}, u'statefips': u'17', u'usgsplacegeomstr': '\\x01\\x04\\x00\\x00 \\x11\\x0f\\x00\\x00\\x01\\x00\\x00\\x00\\x01\\x01\\x00\\x00\\x00R\\xce\\x14\\xe6<\\x9cb\\xc1\\xed\\n3a\\x1b\\x9aSA', u'placeid': 6648, 'usgsplacegeom': <shapely.geometry.multipoint.MultiPoint object at 0x10ce0d210>, u'countryfips': u'031', u'gnisid': 423587.0, u'usgsplacegeomwgs84str': '\\x01\\x04\\x00\\x00 \\xe6\\x10\\x00\\x00\\x01\\x00\\x00\\x00\\x01\\x01\\x00\\x00\\x00\\x1cL\\xf6t\\x9a\\xe9U\\xc07\\xbf\\x9d\\xe1\\xcd\\xecD@', 'usgsplacegeomwgs84': <shapely.geometry.multipoint.MultiPoint object at 0x10ce0d250>, u'usgspopulation': 2695598.0, 'censusurb': {'geom': <shapely.geometry.multipolygon.MultiPolygon object at 0x10ce0d310>, 'ruralgeomwgs84': <shapely.geometry.multipolygon.MultiPolygon object at 0x10ce0d2d0>, 'wgs84': <shapely.geometry.multipolygon.MultiPolygon object at 0x10ce0d290>, 'ruralgeom': <shapely.geometry.multipolygon.MultiPolygon object at 0x10ce0d350>}}\n"
     ]
    }
   ],
   "source": [
    "s = None\n",
    "for i in sampleplaces.values():\n",
    "    if i[u'usgsplacename'] == \"Chicago\":\n",
    "        s = i\n",
    "        break\n",
    "print s\n"
   ]
  },
  {
   "cell_type": "code",
   "execution_count": 55,
   "metadata": {
    "collapsed": false
   },
   "outputs": [
    {
     "name": "stdout",
     "output_type": "stream",
     "text": [
      "doing Wichita\n",
      "doing Springfield\n",
      "doing Raleigh\n",
      "doing Dallas\n",
      "doing Lancaster\n",
      "doing Grand Rapids\n",
      "doing Modesto\n",
      "doing Houston\n",
      "doing Columbus\n",
      "doing Rochester\n",
      "doing Lincoln\n",
      "'NoneType' object has no attribute 'astype'\n",
      "---------\n",
      "doing Anchorage\n",
      "doing Albuquerque\n",
      "doing Kansas City\n",
      "doing Madison\n",
      "doing Corpus Christi\n",
      "doing Santa Rosa\n",
      "doing Denver\n",
      "doing Fresno\n",
      "doing Tampa\n",
      "doing Miami\n",
      "doing Minneapolis\n",
      "doing Charlotte\n",
      "doing Richmond\n",
      "doing Montgomery\n",
      "doing El Paso\n",
      "doing Little Rock\n",
      "doing Virginia Beach\n",
      "doing Indianapolis\n",
      "doing Bakersfield\n",
      "doing Portland\n",
      "doing Mobile\n",
      "doing Greensboro\n",
      "doing Jackson\n",
      "doing Sioux Falls\n",
      "doing Boston\n",
      "doing Philadelphia\n",
      "doing Cape Coral\n",
      "doing Winston-Salem\n",
      "doing Chattanooga\n",
      "doing Salt Lake City\n",
      "doing Cleveland\n",
      "doing Fort Wayne\n",
      "doing Milwaukee\n",
      "doing Baton Rouge\n",
      "doing Newport News\n",
      "doing Shreveport\n",
      "doing San Diego\n",
      "doing Spokane\n",
      "doing Las Vegas\n",
      "doing Reno\n",
      "doing Lubbock\n",
      "doing Saint Louis\n",
      "doing Buffalo\n",
      "doing Cincinnati\n",
      "doing Atlanta\n",
      "doing Nashville\n",
      "doing Orlando\n",
      "doing Birmingham\n",
      "doing Des Moines\n",
      "doing Baltimore\n",
      "doing Memphis\n",
      "doing San Antonio\n",
      "'NoneType' object has no attribute 'astype'\n",
      "---------\n",
      "doing Knoxville\n",
      "doing Boise City\n",
      "doing Sacramento\n",
      "doing Fayetteville\n",
      "doing Salem\n",
      "doing Springfield\n",
      "doing Pittsburgh\n",
      "doing New Orleans\n",
      "doing Eugene\n",
      "doing Detroit\n",
      "doing Seattle\n",
      "doing Columbus\n",
      "doing Providence\n",
      "doing Omaha\n",
      "'NoneType' object has no attribute 'astype'\n",
      "---------\n",
      "doing Stockton\n",
      "doing Tallahassee\n",
      "doing Austin\n",
      "doing Louisville\n",
      "doing Laredo\n",
      "doing Toledo\n",
      "doing Rockford\n",
      "doing Oklahoma City\n",
      "doing Oxnard\n",
      "doing Tulsa\n",
      "doing Jacksonville\n",
      "doing Brownsville\n",
      "doing Phoenix\n",
      "doing Los Angeles\n",
      "doing Colorado Springs\n",
      "doing Lexington\n",
      "doing San Jose\n",
      "doing Huntsville\n",
      "doing Akron\n",
      "doing New York\n",
      "doing Amarillo\n",
      "doing Tucson\n",
      "doing Chicago\n"
     ]
    }
   ],
   "source": [
    "import rasterio\n",
    "from rasterio.mask import mask\n",
    "\n",
    "from shapely.geometry import MultiPolygon, shape\n",
    "from rasterio.features import shapes\n",
    "from shapely.geometry import mapping, shape\n",
    "from shapely.ops import cascaded_union\n",
    "import numpy as np\n",
    "import pandas as pd\n",
    "import json\n",
    "import os\n",
    "from pyspatial.raster import read_catalog\n",
    "from pyspatial.vector import from_series\n",
    "# import matplotlib.pyplot as plt\n",
    "from rasterio import plot\n",
    "from rasterio.transform import from_bounds\n",
    "\n",
    "demfile = \"/Volumes/UrbisBackup/rasterstorage/dem/dem.tif\"\n",
    "demsrc = rasterio.open(demfile)\n",
    "profile = demsrc.profile\n",
    "\n",
    "dempyspatialpath = \"/Volumes/UrbisBackup/rasterstorage/dem/dem.json\"\n",
    "dempyspatial = read_catalog(dempyspatialpath)\n",
    "\n",
    "\n",
    "\n",
    "\n",
    "for s in sampleplaces.values():\n",
    "    print \"doing\", s[u'usgsplacename']\n",
    "    if s['censusurb'].get('processbuffer', False):\n",
    "        continue\n",
    "    try:\n",
    "\n",
    "        buffergeom = mapping(s['censusurb']['ruralgeom'])\n",
    "\n",
    "        try:\n",
    "            os.mkdir('scratch')\n",
    "        except:\n",
    "            pass\n",
    "\n",
    "        #get average elevation of the urbangeom\n",
    "        urbanvl = from_series(pd.Series([s['censusurb']['geom']]))\n",
    "        urbanelevationresult = dempyspatial.query(urbanvl) \n",
    "        r = urbanelevationresult.next()\n",
    "        indexc = np.argwhere(r.values > -9000)\n",
    "        newv =  np.take(r.values, indexc)\n",
    "        neww =  np.take(r.weights, indexc)\n",
    "        urbmeanelevation = float((newv * neww).sum() / neww.sum())\n",
    "\n",
    "        # now calculate the buffer section\n",
    "        result = mask(demsrc, [buffergeom], nodata=None, crop=True, all_touched=False, invert=False)\n",
    "        z = np.where((result[0] > urbmeanelevation - 50) & (result[0] < urbmeanelevation + 50), 1, 0)\n",
    "        p = z[0].astype('uint8')\n",
    "\n",
    "\n",
    "        w,south, e, n = list(s['censusurb']['ruralgeom'].bounds)\n",
    "        bufferaffine = from_bounds(w,south,e,n, z[0].shape[0], z[0].shape[1])\n",
    "\n",
    "\n",
    "\n",
    "        with rasterio.open('scratch/rgb_no_ndv.tif', 'w', driver=profile['driver'], \n",
    "                           width=z[0].shape[0], height=z[0].shape[1], count=1, dtype='uint8', nodata=0,\n",
    "                          affine=bufferaffine, crs=profile['crs']) as dst:\n",
    "            dst.write(p, 1)\n",
    "\n",
    "\n",
    "\n",
    "        with rasterio.open('scratch/rgb_no_ndv.tif', 'r') as newsrc:\n",
    "            elevationoutput = newsrc.read(1)\n",
    "            tempgeoms = []\n",
    "            for shaper in shapes(elevationoutput, mask= elevationoutput==1, transform=bufferaffine):\n",
    "                tempgeoms.append(shaper)\n",
    "\n",
    "        multipolygons = MultiPolygon([shape(g[0]) for g in geomobjs])\n",
    "\n",
    "        s['censusurb']['processbuffer'] = cascaded_union(multipolygons)\n",
    "    except Exception,e:\n",
    "        print e\n",
    "        print \"---------\"\n",
    "\n",
    "\n",
    "\n"
   ]
  },
  {
   "cell_type": "code",
   "execution_count": 56,
   "metadata": {
    "collapsed": true
   },
   "outputs": [],
   "source": [
    "import pickle\n",
    "with open('Dabbage/postelevationremoval.pickle', 'wb') as fout:\n",
    "    pickle.dump(sampleplaces, fout)"
   ]
  },
  {
   "cell_type": "code",
   "execution_count": 30,
   "metadata": {
    "collapsed": false
   },
   "outputs": [],
   "source": [
    "\n",
    "from pyspatial.vector import from_series\n",
    "\n",
    "z = from_series(pd.Series([multipolygons]))\n",
    "\n",
    "\n"
   ]
  },
  {
   "cell_type": "code",
   "execution_count": 36,
   "metadata": {
    "collapsed": false
   },
   "outputs": [],
   "source": [
    "from fiona.crs import from_epsg\n",
    "import fiona\n",
    "yourschema =  {'geometry': 'Polygon',\n",
    "           'properties': {}}\n",
    "with fiona.open('scratch/elevationoutput_shapefile.shp', 'w',\n",
    "                crs=from_epsg(3857),driver='ESRI Shapefile', \n",
    "                schema=yourschema) as output:\n",
    "    for g in shapeiter:\n",
    "        output.write({'geometry': g[0], 'properties':{}})\n"
   ]
  }
 ],
 "metadata": {
  "kernelspec": {
   "display_name": "Python 2",
   "language": "python",
   "name": "python2"
  },
  "language_info": {
   "codemirror_mode": {
    "name": "ipython",
    "version": 2
   },
   "file_extension": ".py",
   "mimetype": "text/x-python",
   "name": "python",
   "nbconvert_exporter": "python",
   "pygments_lexer": "ipython2",
   "version": "2.7.12"
  }
 },
 "nbformat": 4,
 "nbformat_minor": 0
}
