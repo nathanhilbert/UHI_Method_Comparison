{
 "cells": [
  {
   "cell_type": "markdown",
   "metadata": {},
   "source": [
    "Function\n",
    "-------\n",
    "(Urban & tMin) - (Rural & tMin)\n",
    "\n",
    "(Urban & tAvg) - (Rural & tAvg)\n",
    "\n",
    "\n",
    "Stats\n",
    "-----------------\n",
    " - June, July, August 2004-2013\n",
    " - Average summer (June to Aug daily temp)"
   ]
  },
  {
   "cell_type": "code",
   "execution_count": 2,
   "metadata": {
    "collapsed": true
   },
   "outputs": [],
   "source": [
    "import pickle\n",
    "with open('climatecentral/climatecentralbase2.pickle', 'rb') as fout:\n",
    "    sampleplaces = pickle.load(fout)"
   ]
  },
  {
   "cell_type": "code",
   "execution_count": 52,
   "metadata": {
    "collapsed": false
   },
   "outputs": [
    {
     "name": "stdout",
     "output_type": "stream",
     "text": [
      "skipping Lubbock\n",
      "skipping Eugene\n",
      "[{'placename': u'Wichita', 'uhitmin': 1.0656663716073673, 'uhitmax': 1.7726580872480155, 'uhitavg': 1.4173166016585839}, {'placename': u'Springfield', 'uhitmin': -0.98528561745613885, 'uhitmax': 0.31563260805605753, 'uhitavg': -0.33624116325174069}, {'placename': u'Raleigh', 'uhitmin': 0.68458783257290601, 'uhitmax': -0.95819314230953123, 'uhitavg': -0.14538155344057202}, {'placename': u'Dallas', 'uhitmin': 2.3957038551325311, 'uhitmax': 1.3049480363703041, 'uhitavg': 1.8489620519962231}, {'placename': u'Lancaster', 'uhitmin': 1.5614481184158671, 'uhitmax': 11.259019200478999, 'uhitavg': 6.3844975601598133}, {'placename': u'Grand Rapids', 'uhitmin': 3.6822280514757408, 'uhitmax': 0.096103648806131051, 'uhitavg': 1.887962146437232}, {'placename': u'Modesto', 'uhitmin': 3.6200671621291214, 'uhitmax': 0.21808608717431924, 'uhitavg': 1.920507953937495}, {'placename': u'Houston', 'uhitmin': 0.57381411844773, 'uhitmax': 1.5585006437606908, 'uhitavg': 1.0695273259781459}, {'placename': u'Columbus', 'uhitmin': 3.0576667591995927, 'uhitmax': 0.4527564228237253, 'uhitavg': 1.7519049897167391}, {'placename': u'Rochester', 'uhitmin': 1.8864202985658196, 'uhitmax': 0.85086217720727575, 'uhitavg': 1.3619152939636905}, {'placename': u'Lincoln', 'uhitmin': 1.8942537934843748, 'uhitmax': 2.5262274601405026, 'uhitavg': 2.2157056819404146}, {'placename': u'Anchorage', 'uhitmin': 4.260866229694745, 'uhitmax': -1.1157760955316618, 'uhitavg': 1.6012025979719779}, {'placename': u'Albuquerque', 'uhitmin': 13.224302707818165, 'uhitmax': 3.6449268951046263, 'uhitavg': 8.4247501778398934}, {'placename': u'Kansas City', 'uhitmin': 2.2885933118917792, 'uhitmax': -0.13393293950387175, 'uhitavg': 1.0726383674461957}, {'placename': u'Madison', 'uhitmin': -0.3986917202816585, 'uhitmax': -0.64327588407702474, 'uhitavg': -0.5202930809479227}, {'placename': u'Corpus Christi', 'uhitmin': 3.0851953300752455, 'uhitmax': -3.2538592303581226, 'uhitavg': -0.09752038693383866}, {'placename': u'Santa Rosa', 'uhitmin': -2.8677974199713328, 'uhitmax': 4.3809410373602349, 'uhitavg': 0.76251194457716309}, {'placename': u'Denver', 'uhitmin': 6.203108702059227, 'uhitmax': 9.1202203081074593, 'uhitavg': 7.666978848703204}, {'placename': u'Saint Louis', 'uhitmin': -0.14740383834418225, 'uhitmax': 0.50993738028646474, 'uhitavg': 0.17905014708159825}, {'placename': u'Tampa', 'uhitmin': 0.39547191545678262, 'uhitmax': 0.1284811850207376, 'uhitavg': 0.25705534806470498}, {'placename': u'Miami', 'uhitmin': -1.4975808425352484, 'uhitmax': -1.5028705763107681, 'uhitavg': -1.4953416075512009}, {'placename': u'Buffalo', 'uhitmin': -2.0096523874989729, 'uhitmax': -0.47257106515468195, 'uhitavg': -1.2289605432538608}, {'placename': u'Cleveland', 'uhitmin': 2.0881376455412037, 'uhitmax': 2.4764362330900469, 'uhitavg': 2.1760281344641244}, {'placename': u'Richmond', 'uhitmin': 1.4624346886218205, 'uhitmax': -0.27762192035133637, 'uhitavg': 0.59265443695000786}, {'placename': u'Montgomery', 'uhitmin': 2.839989393533604, 'uhitmax': 2.7952270602978957, 'uhitavg': 2.8190457212367335}, {'placename': u'El Paso', 'uhitmin': 9.2932448915038854, 'uhitmax': -1.1383939349273107, 'uhitavg': 4.069999164985342}, {'placename': u'Little Rock', 'uhitmin': 3.4074495733527828, 'uhitmax': 1.2271128634502575, 'uhitavg': 2.3205897158087638}, {'placename': u'Virginia Beach', 'uhitmin': 2.8966133401247576, 'uhitmax': -1.0064576612754934, 'uhitavg': 0.93463377621723542}, {'placename': u'Indianapolis', 'uhitmin': 4.314852176938194, 'uhitmax': 1.174920876496357, 'uhitavg': 2.7584830230066615}, {'placename': u'Bakersfield', 'uhitmin': 6.1062695973256602, 'uhitmax': -0.24425252356823676, 'uhitavg': 2.9058854497618185}, {'placename': u'Portland', 'uhitmin': 4.0420622752780409, 'uhitmax': 3.716217883803556, 'uhitavg': 3.8875376451175669}, {'placename': u'Mobile', 'uhitmin': -0.30462456269188465, 'uhitmax': 1.2485290138978313, 'uhitavg': 0.46753902280797205}, {'placename': u'Greensboro', 'uhitmin': 0.43144527357864321, 'uhitmax': 1.8933160042215249, 'uhitavg': 1.1704924882463303}, {'placename': u'Jackson', 'uhitmin': 1.1547869720033503, 'uhitmax': 0.63260088325732799, 'uhitavg': 0.90556973032618227}, {'placename': u'Sioux Falls', 'uhitmin': 0.85259145280413906, 'uhitmax': 0.16527711419015531, 'uhitavg': 0.51282097423599993}, {'placename': u'Boston', 'uhitmin': 1.0945386192381092, 'uhitmax': -3.1766753889858053, 'uhitavg': -1.0090974075476935}, {'placename': u'Philadelphia', 'uhitmin': 2.9846461482307602, 'uhitmax': -0.18533977984490663, 'uhitavg': 1.3487948210741678}, {'placename': u'Cape Coral', 'uhitmin': 0.50322030213561386, 'uhitmax': -0.078644987001905517, 'uhitavg': 0.21524350282662255}, {'placename': u'Winston-Salem', 'uhitmin': 2.9980689720907128, 'uhitmax': 0.14690449646971046, 'uhitavg': 1.5734066778632012}, {'placename': u'Chattanooga', 'uhitmin': 4.194866006628164, 'uhitmax': 1.9462023877916323, 'uhitavg': 3.064511877370923}, {'placename': u'Salt Lake City', 'uhitmin': 18.543533120593974, 'uhitmax': 8.5194359944991938, 'uhitavg': 13.556922054275622}, {'placename': u'Charlotte', 'uhitmin': 1.6310086735278559, 'uhitmax': 1.2595403340684883, 'uhitavg': 1.4481842844566599}, {'placename': u'Fort Wayne', 'uhitmin': 1.5312044425992268, 'uhitmax': -0.51889048706235319, 'uhitavg': 0.51066432045512189}, {'placename': u'Milwaukee', 'uhitmin': -1.931737183513438, 'uhitmax': 0.46313856953350696, 'uhitavg': -0.75281229953248929}, {'placename': u'Baton Rouge', 'uhitmin': 0.45471581690678986, 'uhitmax': 1.3572333694877372, 'uhitavg': 0.90184875820696531}, {'placename': u'Newport News', 'uhitmin': 3.4791589199593447, 'uhitmax': -0.089886242839484959, 'uhitavg': 1.6870639788648276}, {'placename': u'Shreveport', 'uhitmin': 3.439391803223903, 'uhitmax': 1.2042198330122873, 'uhitavg': 2.3248883852194782}, {'placename': u'San Diego', 'uhitmin': 8.138091506104649, 'uhitmax': -10.912313589305501, 'uhitavg': -1.3879471620017583}, {'placename': u'Spokane', 'uhitmin': 6.1473242211825303, 'uhitmax': 3.1051401497053646, 'uhitavg': 4.6755794522292957}, {'placename': u'Las Vegas', 'uhitmin': 17.63386120585826, 'uhitmax': 15.777933209251637, 'uhitavg': 16.70692837532058}, {'placename': u'Reno', 'uhitmin': 8.4948058670366322, 'uhitmax': 14.328733766032864, 'uhitavg': 11.438174969774025}, {'placename': u'Fresno', 'uhitmin': 1.8197090098036823, 'uhitmax': 2.0440991602656071, 'uhitavg': 1.9476183693390439}, {'placename': u'Minneapolis', 'uhitmin': 1.707689534045177, 'uhitmax': -1.0015020969368778, 'uhitavg': 0.34611189399538633}, {'placename': u'Cincinnati', 'uhitmin': 1.5512046900240128, 'uhitmax': 0.0487855048120764, 'uhitavg': 1.0141025758375037}, {'placename': u'Atlanta', 'uhitmin': 3.5441757929412532, 'uhitmax': -0.15539141737762066, 'uhitavg': 1.6967316521206341}, {'placename': u'Nashville', 'uhitmin': 1.0038185805190607, 'uhitmax': -0.030519863486740916, 'uhitavg': 0.47461790899978951}, {'placename': u'Orlando', 'uhitmin': 1.2312800349104065, 'uhitmax': 1.0635973415168265, 'uhitavg': 1.1491301371027176}, {'placename': u'Birmingham', 'uhitmin': 0.73382471164730423, 'uhitmax': -0.24640784210645705, 'uhitavg': 0.23109261118289054}, {'placename': u'Des Moines', 'uhitmin': 4.6192282918369871, 'uhitmax': 2.0842848295022249, 'uhitavg': 3.356523287501548}, {'placename': u'Baltimore', 'uhitmin': -0.7943432874199281, 'uhitmax': 0.52021422065415091, 'uhitavg': -0.13539180606422008}, {'placename': u'Memphis', 'uhitmin': 1.8820756065931945, 'uhitmax': 0.80574034181997123, 'uhitavg': 1.347300636746779}, {'placename': u'San Antonio', 'uhitmin': 3.1404825457086289, 'uhitmax': 0.69335952671831935, 'uhitavg': 1.919632222311614}, {'placename': u'Knoxville', 'uhitmin': 2.2200228244323457, 'uhitmax': 4.3829856162376242, 'uhitavg': 3.2970226777501197}, {'placename': u'Boise City', 'uhitmin': 3.8085464409623393, 'uhitmax': 1.2834715620287169, 'uhitavg': 2.552772683165732}, {'placename': u'Sacramento', 'uhitmin': -1.182834323396122, 'uhitmax': -3.0440815609330487, 'uhitavg': -2.1206395627658425}, {'placename': u'Fayetteville', 'uhitmin': 2.0418024201930907, 'uhitmax': 0.082210448431810329, 'uhitavg': 1.0613876841281851}, {'placename': u'Salem', 'uhitmin': 2.4127133384339694, 'uhitmax': 4.5841533705758142, 'uhitavg': 3.5064757888059068}, {'placename': u'Springfield', 'uhitmin': 2.0583988360660093, 'uhitmax': -0.16879316374905642, 'uhitavg': 0.94551774118512666}, {'placename': u'Pittsburgh', 'uhitmin': 2.394254562845576, 'uhitmax': 0.1598516850611702, 'uhitavg': 1.2978339280046343}, {'placename': u'New Orleans', 'uhitmin': 1.9616709101604157, 'uhitmax': 0.53137051934321988, 'uhitavg': 1.2429036327115157}, {'placename': u'Detroit', 'uhitmin': -3.8064829265783566, 'uhitmax': 1.3906567119288411, 'uhitavg': -1.2375666772172651}, {'placename': u'Seattle', 'uhitmin': 0.29618765646045303, 'uhitmax': -0.65242005088034749, 'uhitavg': -0.17168830250104464}, {'placename': u'Columbus', 'uhitmin': 2.221810697744055, 'uhitmax': 0.71637162218989803, 'uhitavg': 1.4749772914931043}, {'placename': u'Providence', 'uhitmin': 3.8720783001217791, 'uhitmax': 1.0817110908415217, 'uhitavg': 2.476237743737741}, {'placename': u'Omaha', 'uhitmin': 1.8708823259824741, 'uhitmax': -0.57367017040929791, 'uhitavg': 0.65320532802701625}, {'placename': u'Stockton', 'uhitmin': -3.581966639975056, 'uhitmax': 12.668685051896835, 'uhitavg': 4.5389735565752405}, {'placename': u'Tallahassee', 'uhitmin': 2.5394304384482185, 'uhitmax': 0.84216220135840847, 'uhitavg': 1.6830356471285284}, {'placename': u'Austin', 'uhitmin': 1.9882499612577234, 'uhitmax': 1.5774791285538725, 'uhitavg': 1.7611477415933863}, {'placename': u'Louisville', 'uhitmin': 1.9035719586236346, 'uhitmax': -0.40499424641923554, 'uhitavg': 0.76548042264341232}, {'placename': u'Laredo', 'uhitmin': 2.9499770731445381, 'uhitmax': 0.91968467310224045, 'uhitavg': 1.9273867126173598}, {'placename': u'Toledo', 'uhitmin': 3.1193815425105891, 'uhitmax': 1.0666368829414907, 'uhitavg': 2.1057275943409492}, {'placename': u'Rockford', 'uhitmin': 1.2615460706765078, 'uhitmax': 0.67215710215710234, 'uhitavg': 0.96852268070324354}, {'placename': u'Oklahoma City', 'uhitmin': 0.84252713347669894, 'uhitmax': 0.51430422640145257, 'uhitavg': 0.68056886805891703}, {'placename': u'Oxnard', 'uhitmin': -1.369854524098661, 'uhitmax': -12.404411942898921, 'uhitavg': -6.8757847063898696}, {'placename': u'Tulsa', 'uhitmin': 0.26794054108284515, 'uhitmax': 3.1829286341133765, 'uhitavg': 1.716870645264136}, {'placename': u'Jacksonville', 'uhitmin': 4.5703198931976967, 'uhitmax': -0.044646810605892998, 'uhitavg': 2.2638674293934202}, {'placename': u'Brownsville', 'uhitmin': 0.93401840566040306, 'uhitmax': -1.115880945696452, 'uhitavg': -0.098130598961584783}, {'placename': u'Phoenix', 'uhitmin': 4.2555429750348868, 'uhitmax': 2.8941768469222908, 'uhitavg': 3.5243796647737113}, {'placename': u'Los Angeles', 'uhitmin': -1.8537310266132905, 'uhitmax': -16.834396931570843, 'uhitavg': -9.3388041256360736}, {'placename': u'Colorado Springs', 'uhitmin': 9.3457859240900838, 'uhitmax': 2.8120550313662465, 'uhitavg': 6.0695193008295831}, {'placename': u'Lexington', 'uhitmin': 1.7783432841953335, 'uhitmax': -1.4031117952024061, 'uhitavg': 0.18534238192137736}, {'placename': u'San Jose', 'uhitmin': -2.6885332059245095, 'uhitmax': -5.9226747889791369, 'uhitavg': -4.3030498487020239}, {'placename': u'Huntsville', 'uhitmin': 1.4504690545481922, 'uhitmax': 0.71598651073004194, 'uhitavg': 1.0879870285769129}, {'placename': u'Akron', 'uhitmin': -3.6461257709574371, 'uhitmax': -0.48156179568730834, 'uhitavg': -2.0618346470139644}, {'placename': u'New York', 'uhitmin': -0.47462452225572421, 'uhitmax': 3.8460113805455007, 'uhitavg': 1.6992004084513881}, {'placename': u'Amarillo', 'uhitmin': -2.1641619372054151, 'uhitmax': -2.7481584426059853, 'uhitavg': -2.4319656521135089}, {'placename': u'Tucson', 'uhitmin': 10.351432982409749, 'uhitmax': 4.1678558876520864, 'uhitavg': 7.2204154049441858}, {'placename': u'Chicago', 'uhitmin': 1.7086096530695016, 'uhitmax': 1.8061738017753555, 'uhitavg': 1.7524586170545333}]\n"
     ]
    }
   ],
   "source": [
    "import numpy as np\n",
    "import pandas as pd\n",
    "\n",
    "outputdict = []\n",
    "\n",
    "for s in sampleplaces.values():\n",
    "    urbanuse = s['station'].get('urbanuse', None)\n",
    "    if not urbanuse:\n",
    "        print \"skipping\", s['usgsplacename']\n",
    "        continue\n",
    "    urbandf = pd.DataFrame(urbanuse['results'], columns=['measure', 'year', 'value'])\n",
    "    \n",
    "    ruraluse = s['station']['ruraluse']\n",
    "    ruraldfs = []\n",
    "    for r in ruraluse:\n",
    "        tdf = pd.DataFrame(r['results'], columns=['measure', 'year', 'value'])\n",
    "        tdf.set_index(['measure', 'year'])\n",
    "        ruraldfs.append(tdf)\n",
    "    df_concat = pd.concat(ruraldfs)\n",
    "#     print ruraldfs\n",
    "\n",
    "    ruralresult = pd.DataFrame(df_concat.groupby(['measure','year'])['value'].mean())\n",
    "\n",
    "    \n",
    "    mergeddf =  urbandf.merge(ruralresult.reset_index(),on=['measure','year'],how='left')\n",
    "#     print mergeddf[['value_x', 'value_y']].sub(axis=1)\n",
    "    mergeddf['uhi'] = mergeddf['value_x'] - mergeddf['value_y']\n",
    "    outputdict.append({\n",
    "            'placename': s['usgsplacename'],\n",
    "            'uhitmin': mergeddf[mergeddf['measure']=='tmin']['uhi'].mean(),\n",
    "            'uhitavg': mergeddf[mergeddf['measure']=='tavg']['uhi'].mean(),\n",
    "            'uhitmax': mergeddf[mergeddf['measure']=='tmax']['uhi'].mean()\n",
    "        })\n",
    "#     print mergeddf[['value_x']].sub(mergeddf['value_y'], axis=0)\n",
    "#     for year in range(2004, 2014):\n",
    "#         for measure in ['tmin', 'tmax', 'tavg']\n"
   ]
  },
  {
   "cell_type": "code",
   "execution_count": 53,
   "metadata": {
    "collapsed": true
   },
   "outputs": [],
   "source": [
    "import csv\n",
    "\n",
    "with open('climatecentral/stationresults.csv', 'w') as fin:\n",
    "    writer = csv.DictWriter(fin, fieldnames=['placename', 'uhitmin', 'uhitmax', 'uhitavg'])\n",
    "    writer.writeheader()\n",
    "    for row in outputdict:\n",
    "        writer.writerow(row)"
   ]
  },
  {
   "cell_type": "code",
   "execution_count": 3,
   "metadata": {
    "collapsed": false
   },
   "outputs": [],
   "source": []
  },
  {
   "cell_type": "code",
   "execution_count": 4,
   "metadata": {
    "collapsed": false
   },
   "outputs": [
    {
     "name": "stdout",
     "output_type": "stream",
     "text": [
      "(-10854088.089812914, 4512349.452199243, -10810510.42127981, 4553634.740666818)\n"
     ]
    }
   ],
   "source": []
  }
 ],
 "metadata": {
  "kernelspec": {
   "display_name": "Python 2",
   "language": "python",
   "name": "python2"
  },
  "language_info": {
   "codemirror_mode": {
    "name": "ipython",
    "version": 2
   },
   "file_extension": ".py",
   "mimetype": "text/x-python",
   "name": "python",
   "nbconvert_exporter": "python",
   "pygments_lexer": "ipython2",
   "version": "2.7.12"
  }
 },
 "nbformat": 4,
 "nbformat_minor": 0
}
