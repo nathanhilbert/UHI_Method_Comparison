{
 "cells": [
  {
   "cell_type": "markdown",
   "metadata": {},
   "source": [
    "Function\n",
    "-------\n",
    "(Urban & tMin) - (Rural & tMin)\n",
    "\n",
    "(Urban & tAvg) - (Rural & tAvg)\n",
    "\n",
    "\n",
    "Stats\n",
    "-----------------\n",
    " - June, July, August 2004-2013\n",
    " - Average summer (June to Aug daily temp)"
   ]
  },
  {
   "cell_type": "code",
   "execution_count": 1,
   "metadata": {
    "collapsed": false
   },
   "outputs": [
    {
     "name": "stdout",
     "output_type": "stream",
     "text": [
      "100\n"
     ]
    }
   ],
   "source": [
    "import pickle\n",
    "with open('climatecentral/climatecentralbase2.pickle', 'rb') as fout:\n",
    "    sampleplaces = pickle.load(fout)\n",
    "    \n",
    "print len(sampleplaces.values())"
   ]
  },
  {
   "cell_type": "code",
   "execution_count": 2,
   "metadata": {
    "collapsed": false
   },
   "outputs": [
    {
     "name": "stdout",
     "output_type": "stream",
     "text": [
      "skipping rural Denver\n",
      "Error 'NoneType' object has no attribute '__getitem__'\n",
      "Error 'NoneType' object has no attribute '__getitem__'\n",
      "skipping rural Reno\n",
      "skipping Lubbock\n",
      "no results found\n",
      "Error 'NoneType' object has no attribute '__getitem__'\n"
     ]
    }
   ],
   "source": [
    "import numpy as np\n",
    "import pandas as pd\n",
    "\n",
    "outputdict = []\n",
    "\n",
    "for s in sampleplaces.values():\n",
    "    urbanuse = s['station'].get('urbanclosest', None)\n",
    "    if not urbanuse:\n",
    "        print \"skipping\", s['usgsplacename']\n",
    "        continue\n",
    "    try:\n",
    "        urbandf = pd.DataFrame(urbanuse['results'], columns=['measure', 'year', 'value'])\n",
    "    except:\n",
    "        print \"no results found\"\n",
    "        continue\n",
    "    try:\n",
    "        ruraluse = s['station']['ruralclosest']\n",
    "        if len(ruraluse) == 0 or not ruraluse:\n",
    "            print \"skipping rural\", s['usgsplacename']\n",
    "            continue\n",
    "        ruraldfs = []\n",
    "        for r in ruraluse:\n",
    "            tdf = pd.DataFrame(r['results'], columns=['measure', 'year', 'value'])\n",
    "            tdf.set_index(['measure', 'year'])\n",
    "            ruraldfs.append(tdf)\n",
    "        df_concat = pd.concat(ruraldfs)\n",
    "    #     print ruraldfs\n",
    "\n",
    "        ruralresult = pd.DataFrame(df_concat.groupby(['measure','year'])['value'].mean())\n",
    "\n",
    "\n",
    "        mergeddf =  urbandf.merge(ruralresult.reset_index(),on=['measure','year'],how='left')\n",
    "    #     print mergeddf[['value_x', 'value_y']].sub(axis=1)\n",
    "        mergeddf['uhi'] = mergeddf['value_x'] - mergeddf['value_y']\n",
    "        outputdict.append({\n",
    "                'placename': s['usgsplacename'],\n",
    "                'uhitmin': mergeddf[mergeddf['measure']=='tmin']['uhi'].mean(),\n",
    "                'uhitavg': mergeddf[mergeddf['measure']=='tavg']['uhi'].mean(),\n",
    "                'uhitmax': mergeddf[mergeddf['measure']=='tmax']['uhi'].mean()\n",
    "            })\n",
    "    except Exception,e:\n",
    "        print \"Error\", e\n",
    "        \n",
    "#     print mergeddf[['value_x']].sub(mergeddf['value_y'], axis=0)\n",
    "#     for year in range(2004, 2014):\n",
    "#         for measure in ['tmin', 'tmax', 'tavg']\n"
   ]
  },
  {
   "cell_type": "code",
   "execution_count": 3,
   "metadata": {
    "collapsed": true
   },
   "outputs": [],
   "source": [
    "import csv\n",
    "\n",
    "with open('climatecentral/stationresults.csv', 'w') as fin:\n",
    "    writer = csv.DictWriter(fin, fieldnames=['placename', 'uhitmin', 'uhitmax', 'uhitavg'])\n",
    "    writer.writeheader()\n",
    "    for row in outputdict:\n",
    "        writer.writerow(row)"
   ]
  },
  {
   "cell_type": "code",
   "execution_count": null,
   "metadata": {
    "collapsed": false
   },
   "outputs": [],
   "source": []
  },
  {
   "cell_type": "code",
   "execution_count": null,
   "metadata": {
    "collapsed": false
   },
   "outputs": [],
   "source": []
  }
 ],
 "metadata": {
  "kernelspec": {
   "display_name": "Python 2",
   "language": "python",
   "name": "python2"
  },
  "language_info": {
   "codemirror_mode": {
    "name": "ipython",
    "version": 2
   },
   "file_extension": ".py",
   "mimetype": "text/x-python",
   "name": "python",
   "nbconvert_exporter": "python",
   "pygments_lexer": "ipython2",
   "version": "2.7.12"
  }
 },
 "nbformat": 4,
 "nbformat_minor": 0
}
